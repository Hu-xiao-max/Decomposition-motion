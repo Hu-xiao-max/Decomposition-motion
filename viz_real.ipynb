{
 "cells": [
  {
   "cell_type": "code",
   "execution_count": null,
   "id": "ed573cc3-17bb-41f9-aadf-3cdab6c18c08",
   "metadata": {},
   "outputs": [],
   "source": [
    "import zarr\n",
    "import plotly.graph_objects as go"
   ]
  },
  {
   "cell_type": "code",
   "execution_count": null,
   "id": "9bc46a1e-43ec-4bae-9967-d3afada6ab68",
   "metadata": {},
   "outputs": [],
   "source": [
    "label_dataset_path = \"/home/alien/Research/xskill/experiment/pretrain/2025-06-30_20-05-14/ckpt_19/prototype.zarr\"\n",
    "label_dataset = zarr.open(label_dataset_path)\n",
    "label_dataset.tree()"
   ]
  },
  {
   "cell_type": "code",
   "execution_count": null,
   "id": "6dbcaae6-0c56-4cae-abe3-127a65c1d62f",
   "metadata": {},
   "outputs": [],
   "source": [
    "def plot_prototype(task,embodiment,eps,prototype_form=\"softmax_prototypes\"):\n",
    "    if embodiment=='human':\n",
    "        task = 'human_'+ task\n",
    "    task_data = label_dataset[f'{embodiment}/{task}']\n",
    "    eps_end_index = task_data['eps_end'][eps]\n",
    "    eps_start_index = task_data['eps_end'][eps-1] if eps>1 else 0\n",
    "    plot_data = task_data[prototype_form][eps_start_index:eps_end_index]\n",
    "    D = plot_data.shape[1]\n",
    "    print(plot_data.shape)\n",
    "    fig = go.Figure()\n",
    "    for d in range(D):\n",
    "        fig.add_trace(go.Scatter(\n",
    "            y=plot_data[:, d],\n",
    "            mode='lines',\n",
    "            name=f'Proto {d}'\n",
    "        ))\n",
    "    \n",
    "    fig.update_layout(title=\"prototype plot\",\n",
    "                      xaxis_title=\"Time\",\n",
    "                      yaxis_title=f\"{prototype_form}\",\n",
    "                      showlegend=True)\n",
    "    \n",
    "    fig.show()"
   ]
  },
  {
   "cell_type": "code",
   "execution_count": null,
   "id": "2df816d3-8089-425b-aaf4-91e579cbf16c",
   "metadata": {},
   "outputs": [],
   "source": [
    "plot_prototype(\"draw_light_oven\",\"human\",7)\n",
    "plot_prototype(\"draw_light_oven\",\"robot\",7)"
   ]
  },
  {
   "cell_type": "code",
   "execution_count": null,
   "id": "1a5cea76-2b2b-4dbb-a99e-0d2ddc795207",
   "metadata": {},
   "outputs": [],
   "source": []
  }
 ],
 "metadata": {
  "kernelspec": {
   "display_name": "Python 3 (ipykernel)",
   "language": "python",
   "name": "python3"
  },
  "language_info": {
   "codemirror_mode": {
    "name": "ipython",
    "version": 3
   },
   "file_extension": ".py",
   "mimetype": "text/x-python",
   "name": "python",
   "nbconvert_exporter": "python",
   "pygments_lexer": "ipython3",
   "version": "3.9.18"
  }
 },
 "nbformat": 4,
 "nbformat_minor": 5
}
